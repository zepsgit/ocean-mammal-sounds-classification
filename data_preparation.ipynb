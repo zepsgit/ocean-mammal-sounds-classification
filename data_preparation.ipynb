{
 "cells": [
  {
   "cell_type": "markdown",
   "metadata": {},
   "source": [
    "### Download data from internet\n",
    "credit to \"Watkins Marine Mammal Sound Database, Woods Hole Oceanographic Institution and the New Bedford Whaling Museum.\"\n",
    "\n",
    "link:https://whoicf2.whoi.edu/science/B/whalesounds/about.cfm"
   ]
  },
  {
   "cell_type": "code",
   "execution_count": 7,
   "metadata": {},
   "outputs": [
    {
     "name": "stdout",
     "output_type": "stream",
     "text": [
      "sample metadata \n",
      "        file_name                                            folder  \\\n",
      "0   61025001.wav  Atlantic Spotted Dolphin (Stenella frontalis) 58   \n",
      "1   61025002.wav  Atlantic Spotted Dolphin (Stenella frontalis) 58   \n",
      "2   61025003.wav  Atlantic Spotted Dolphin (Stenella frontalis) 58   \n",
      "3   61025004.wav  Atlantic Spotted Dolphin (Stenella frontalis) 58   \n",
      "4   61025006.wav  Atlantic Spotted Dolphin (Stenella frontalis) 58   \n",
      "5   61025007.wav  Atlantic Spotted Dolphin (Stenella frontalis) 58   \n",
      "6   61025008.wav  Atlantic Spotted Dolphin (Stenella frontalis) 58   \n",
      "7   61025009.wav  Atlantic Spotted Dolphin (Stenella frontalis) 58   \n",
      "8   6102500A.wav  Atlantic Spotted Dolphin (Stenella frontalis) 58   \n",
      "9   6102500B.wav  Atlantic Spotted Dolphin (Stenella frontalis) 58   \n",
      "10  6102500C.wav  Atlantic Spotted Dolphin (Stenella frontalis) 58   \n",
      "\n",
      "                 common_name     scientific_name  \n",
      "0   Atlantic Spotted Dolphin  Stenella frontalis  \n",
      "1   Atlantic Spotted Dolphin  Stenella frontalis  \n",
      "2   Atlantic Spotted Dolphin  Stenella frontalis  \n",
      "3   Atlantic Spotted Dolphin  Stenella frontalis  \n",
      "4   Atlantic Spotted Dolphin  Stenella frontalis  \n",
      "5   Atlantic Spotted Dolphin  Stenella frontalis  \n",
      "6   Atlantic Spotted Dolphin  Stenella frontalis  \n",
      "7   Atlantic Spotted Dolphin  Stenella frontalis  \n",
      "8   Atlantic Spotted Dolphin  Stenella frontalis  \n",
      "9   Atlantic Spotted Dolphin  Stenella frontalis  \n",
      "10  Atlantic Spotted Dolphin  Stenella frontalis  \n",
      "\n",
      " clean data shape \n",
      " (1647, 4)\n"
     ]
    }
   ],
   "source": [
    "import pandas as pd\n",
    "metadata = pd.read_csv('./data.csv')\n",
    "metadata_sample=metadata.head(11)\n",
    "print('sample metadata','\\n',metadata_sample)\n",
    "# show the files that are same but exsist in different folder of species\n",
    "#duplicated_files = metadata[metadata[\"file_name\"].duplicated(keep=False)]\n",
    "#print('\\n','duplicated files','\\n',duplicated_files)\n",
    "# delete the duplicated rows\n",
    "metadata = metadata.drop_duplicates(\"file_name\", keep=False)\n",
    "file_names=metadata.file_name\n",
    "# save the non-duplicated data\n",
    "metadata.to_csv('../src/nonduplicate_data.csv')\n",
    "print('\\n clean data shape','\\n',metadata.shape)\n",
    "\n",
    "# the following code only used for once\n",
    "\n",
    "# import requests\n",
    "# for filename in file_names:\n",
    "#     url = 'https://cis.whoi.edu/science/B/whalesounds/WhaleSounds/{filename}'.format(filename=filename)\n",
    "#     #request data from the link above\n",
    "#     req = requests.get(url, allow_redirects=True)\n",
    "#     #write data to the specified folder\n",
    "#     open('../data/{filename}'.format(filename=filename), 'wb').write(req.content)\n"
   ]
  },
  {
   "cell_type": "markdown",
   "metadata": {},
   "source": [
    "### Drop insufficient instances"
   ]
  },
  {
   "cell_type": "code",
   "execution_count": 8,
   "metadata": {},
   "outputs": [
    {
     "name": "stdout",
     "output_type": "stream",
     "text": [
      "Spinner Dolphin                       114\n",
      "Fraser's Dolphin                       87\n",
      "Striped Dolphin                        81\n",
      "Risso's Dolphin                        67\n",
      "Long-Finned Pilot Whale                65\n",
      "Short-Finned (Pacific) Pilot Whale     65\n",
      "Pantropical Spotted Dolphin            65\n",
      "Humpback Whale                         64\n",
      "Clymene Dolphin                        63\n",
      "Sperm Whale                            60\n",
      "False Killer Whale                     59\n",
      "Atlantic Spotted Dolphin               58\n",
      "White-beaked Dolphin                   57\n",
      "Melon Headed Whale                     56\n",
      "White-sided Dolphin                    55\n",
      "Northern Right Whale                   54\n",
      "Common Dolphin                         52\n",
      "Ross Seal                              50\n",
      "White Whale                            50\n",
      "Bowhead Whale                          50\n",
      "Rough-Toothed Dolphin                  50\n",
      "Finback Whale                          50\n",
      "Narwhal                                50\n",
      "Harp Seal                              47\n",
      "Walrus                                 38\n",
      "Killer Whale                           35\n",
      "Bearded Seal                           27\n",
      "Southern Right Whale                   25\n",
      "Bottlenose Dolphin                     24\n",
      "Minke Whale                            17\n",
      "Leopard Seal                           10\n",
      "Weddell Seal                            2\n",
      "Name: common_name, dtype: int64\n",
      "\n",
      " metadata shape after removing insufficient instances\n",
      "\n",
      "\n",
      " sufficient metadata shape\n",
      "\n",
      " (1618, 4)\n"
     ]
    }
   ],
   "source": [
    "# list the counts of audio files of all classes\n",
    "common_name_counts = metadata.common_name.value_counts()\n",
    "print(common_name_counts)\n",
    "#extract the instances needed to be removed\n",
    "metadata_removed = metadata[~metadata['common_name'].isin(common_name_counts[common_name_counts >= 20].index)]\n",
    "#print('\\n insufficient metadata\\n\\n',metadata_removed)\n",
    "# drop classes that has counts less than 20\n",
    "metadata = metadata[~metadata['common_name'].isin(common_name_counts[common_name_counts < 20].index)]\n",
    "print(\"\\n metadata shape after removing insufficient instances\\n\")\n",
    "print('\\n sufficient metadata shape\\n\\n',metadata.shape)\n",
    "#save the new metadata to csv file\n",
    "metadata.to_csv('../src/sufficient_data.csv')\n",
    "#remove the insufficient data from downloaded dataset\n",
    "removed_filenames=metadata_removed.file_name\n",
    "# following code only used once\n",
    "# import os\n",
    "# for removed_filename in removed_filenames:\n",
    "#     os.remove('../data/{filename}'.format(filename=removed_filename))\n"
   ]
  }
 ],
 "metadata": {
  "interpreter": {
   "hash": "1dd17f4f9dd3086ee9df77a4f54f7c5d3d5ec53146c9cee07447a5f308095740"
  },
  "kernelspec": {
   "display_name": "Python 3.10.2 64-bit",
   "language": "python",
   "name": "python3"
  },
  "language_info": {
   "codemirror_mode": {
    "name": "ipython",
    "version": 3
   },
   "file_extension": ".py",
   "mimetype": "text/x-python",
   "name": "python",
   "nbconvert_exporter": "python",
   "pygments_lexer": "ipython3",
   "version": "3.10.2"
  },
  "orig_nbformat": 4
 },
 "nbformat": 4,
 "nbformat_minor": 2
}
