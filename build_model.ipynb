{
 "cells": [
  {
   "cell_type": "markdown",
   "metadata": {},
   "source": [
    "### Convert dataset to numeric representation"
   ]
  },
  {
   "cell_type": "code",
   "execution_count": 168,
   "metadata": {},
   "outputs": [],
   "source": [
    "# %%capture thiscell\n",
    "# #hide output of this cell\n",
    "# %run ./feature_extraction.ipynb"
   ]
  },
  {
   "cell_type": "code",
   "execution_count": 169,
   "metadata": {},
   "outputs": [
    {
     "name": "stdout",
     "output_type": "stream",
     "text": [
      "Stored 'X' (ndarray)\n",
      "Stored 'y' (ndarray)\n",
      "Stored 'yy' (ndarray)\n",
      "(1618, 40)\n",
      "(1618, 29)\n"
     ]
    }
   ],
   "source": [
    "from sklearn.preprocessing import LabelEncoder\n",
    "from tensorflow.keras.utils import to_categorical\n",
    "# Convert features and corresponding classification labels into numpy arrays\n",
    "X = np.array(MFCC_df.MFCC.tolist())\n",
    "y = np.array(MFCC_df.class_label.tolist())\n",
    "%store X\n",
    "%store y\n",
    "# Encode the classification labels\n",
    "le = LabelEncoder()\n",
    "yy = to_categorical(le.fit_transform(y))\n",
    "# yy is one-hot encoding of label\n",
    "%store yy\n",
    "print(X.shape)\n",
    "print(yy.shape)"
   ]
  },
  {
   "cell_type": "markdown",
   "metadata": {},
   "source": [
    "### Stratify dataset\n",
    "Stratifying dataset can make each class distributed evenly"
   ]
  },
  {
   "cell_type": "code",
   "execution_count": 170,
   "metadata": {},
   "outputs": [],
   "source": [
    "from sklearn.model_selection import train_test_split\n",
    "x_train, x_test, y_train, y_test = train_test_split(X, yy, test_size=0.2, random_state = 42)"
   ]
  },
  {
   "cell_type": "markdown",
   "metadata": {},
   "source": [
    "### Apply different models"
   ]
  },
  {
   "cell_type": "markdown",
   "metadata": {},
   "source": [
    "- Multilayer Perceptron (MLP) Neural Network\n",
    "\n",
    "The model has three dense layer:\n",
    "1. Input layer has 40 nodes because our dataset shape of each instance is 1x40\n",
    "2. One hidden layer including 256 nodes\n",
    "3. Output layer including 29 nodes because we have 29 categories"
   ]
  },
  {
   "cell_type": "markdown",
   "metadata": {},
   "source": [
    "- Model construction"
   ]
  },
  {
   "cell_type": "code",
   "execution_count": 171,
   "metadata": {},
   "outputs": [],
   "source": [
    "from tensorflow.keras.models import Sequential\n",
    "from tensorflow.keras.layers import Dense, Dropout, Activation, Flatten\n",
    "from tensorflow.keras.layers import Convolution2D, MaxPooling2D\n",
    "from tensorflow.keras.optimizers import Adam\n",
    "from sklearn import metrics\n",
    "\n",
    "num_labels = yy.shape[1]\n",
    "filter_size = 2\n",
    "# Construct model\n",
    "model = Sequential()\n",
    "model.add(Dense(256, input_shape=(40,)))\n",
    "model.add(Activation('relu'))\n",
    "model.add(Dropout(0.5))\n",
    "model.add(Dense(256))\n",
    "model.add(Activation('relu'))\n",
    "model.add(Dropout(0.5))\n",
    "model.add(Dense(num_labels))\n",
    "model.add(Activation('softmax'))"
   ]
  },
  {
   "cell_type": "markdown",
   "metadata": {},
   "source": [
    "- Model compiling"
   ]
  },
  {
   "cell_type": "code",
   "execution_count": 172,
   "metadata": {},
   "outputs": [
    {
     "name": "stdout",
     "output_type": "stream",
     "text": [
      "Model: \"sequential_7\"\n",
      "_________________________________________________________________\n",
      " Layer (type)                Output Shape              Param #   \n",
      "=================================================================\n",
      " dense_21 (Dense)            (None, 256)               10496     \n",
      "                                                                 \n",
      " activation_21 (Activation)  (None, 256)               0         \n",
      "                                                                 \n",
      " dropout_14 (Dropout)        (None, 256)               0         \n",
      "                                                                 \n",
      " dense_22 (Dense)            (None, 256)               65792     \n",
      "                                                                 \n",
      " activation_22 (Activation)  (None, 256)               0         \n",
      "                                                                 \n",
      " dropout_15 (Dropout)        (None, 256)               0         \n",
      "                                                                 \n",
      " dense_23 (Dense)            (None, 29)                7453      \n",
      "                                                                 \n",
      " activation_23 (Activation)  (None, 29)                0         \n",
      "                                                                 \n",
      "=================================================================\n",
      "Total params: 83,741\n",
      "Trainable params: 83,741\n",
      "Non-trainable params: 0\n",
      "_________________________________________________________________\n",
      "Pre-training accuracy: 9.5679%\n"
     ]
    }
   ],
   "source": [
    "# Compile the model\n",
    "model.compile(loss='categorical_crossentropy', metrics=['accuracy'], optimizer='adam')\n",
    "# Display model architecture summary\n",
    "model.summary()\n",
    "# Calculate pre-training accuracy\n",
    "score = model.evaluate(x_test, y_test, verbose=0)\n",
    "accuracy = 100*score[1]\n",
    "print(\"Pre-training accuracy: %.4f%%\" % accuracy)"
   ]
  },
  {
   "cell_type": "markdown",
   "metadata": {},
   "source": [
    "- Model training"
   ]
  },
  {
   "cell_type": "code",
   "execution_count": 173,
   "metadata": {},
   "outputs": [],
   "source": [
    "%%capture thiscell\n",
    "from tensorflow.keras.callbacks import ModelCheckpoint\n",
    "from datetime import datetime\n",
    "num_epochs = 100\n",
    "num_batch_size = 32\n",
    "checkpointer = ModelCheckpoint(filepath='saved_models/weights.best.basic_mlp.hdf5',\n",
    "verbose=1, save_best_only=True)\n",
    "start = datetime.now()\n",
    "model.fit(x_train, y_train, batch_size=num_batch_size, epochs=num_epochs, validation_data=(x_test,y_test))\n",
    "duration = datetime.now() - start"
   ]
  },
  {
   "cell_type": "code",
   "execution_count": 174,
   "metadata": {},
   "outputs": [
    {
     "name": "stdout",
     "output_type": "stream",
     "text": [
      "Training completed in time:  0:00:08.283739\n",
      "Test accuracy:  0.8672839403152466\n"
     ]
    }
   ],
   "source": [
    "print(\"Training completed in time: \", duration)\n",
    "score = model.evaluate(x_test, y_test, verbose=0)\n",
    "print(\"Test accuracy: \", score[1])"
   ]
  },
  {
   "cell_type": "code",
   "execution_count": 175,
   "metadata": {},
   "outputs": [],
   "source": [
    "%%capture thiscell\n",
    "from sklearn.datasets import fetch_openml\n",
    "from sklearn.model_selection import train_test_split\n",
    "from sklearn.ensemble import RandomForestClassifier\n",
    "from sklearn.multiclass import OneVsRestClassifier\n",
    "from sklearn.metrics import precision_recall_curve, roc_curve\n",
    "from sklearn.preprocessing import label_binarize\n",
    "import numpy as np\n",
    "import matplotlib.pyplot as plt\n",
    "\n",
    "y_cat={}\n",
    "y_num=[]\n",
    "new_y=list(set(y))\n",
    "enu_y=list(enumerate(new_y))\n",
    "for count, item in enu_y:\n",
    "    y_cat[item]=count\n",
    "for y_item in y:\n",
    "    y_num.append(y_cat[y_item])\n",
    "\n",
    "n_classes = len(set(y))\n",
    "Y = label_binarize(y_num, classes=[*range(n_classes)])\n",
    "X_train, X_test, y_train, y_test = train_test_split(X,\n",
    "                                                    Y,\n",
    "                                                    random_state = 42)\n",
    "\n",
    "model.fit(X_train, y_train, batch_size=num_batch_size, epochs=num_epochs, validation_data=(X_test,y_test))\n",
    "y_score = model.predict(X_test)\n"
   ]
  },
  {
   "cell_type": "markdown",
   "metadata": {},
   "source": [
    "### PR curve"
   ]
  },
  {
   "cell_type": "code",
   "execution_count": 176,
   "metadata": {},
   "outputs": [
    {
     "data": {
      "text/plain": [
       "Text(0.5, 1.0, 'precision vs. recall curve')"
      ]
     },
     "execution_count": 176,
     "metadata": {},
     "output_type": "execute_result"
    },
    {
     "data": {
      "image/png": "[encoded data removed]",
      "text/plain": [
       "<Figure size 864x288 with 1 Axes>"
      ]
     },
     "metadata": {
      "needs_background": "light"
     },
     "output_type": "display_data"
    }
   ],
   "source": [
    "precision = dict()\n",
    "recall = dict()\n",
    "for i in range(n_classes):\n",
    "    precision[i], recall[i], _ = precision_recall_curve(y_test[:, i],\n",
    "                                                        y_score[:, i])\n",
    "    plt.plot(recall[i], precision[i], lw=2, label='class {}'.format(i))\n",
    "\n",
    "#plt.rcParams[\"figure.figsize\"] = (12,4)\n",
    "plt.xlabel(\"recall\")\n",
    "plt.ylabel(\"precision\")\n",
    "plt.legend(loc=\"best\")\n",
    "plt.title(\"precision vs. recall curve\")"
   ]
  },
  {
   "cell_type": "markdown",
   "metadata": {},
   "source": [
    "### ROC curve"
   ]
  },
  {
   "cell_type": "code",
   "execution_count": 177,
   "metadata": {},
   "outputs": [
    {
     "data": {
      "image/png": "[encoded data removed]",
      "text/plain": [
       "<Figure size 864x288 with 1 Axes>"
      ]
     },
     "metadata": {
      "needs_background": "light"
     },
     "output_type": "display_data"
    }
   ],
   "source": [
    "# roc curve\n",
    "fpr = dict()\n",
    "tpr = dict()\n",
    "\n",
    "for i in range(n_classes):\n",
    "    fpr[i], tpr[i], _ = roc_curve(y_test[:, i],\n",
    "                                  y_score[:, i])\n",
    "    plt.plot(fpr[i], tpr[i], lw=2, label='class {}'.format(i))\n",
    "\n",
    "#plt.rcParams[\"figure.figsize\"] = (12,4)\n",
    "plt.xlabel(\"false positive rate\")\n",
    "plt.ylabel(\"true positive rate\")\n",
    "plt.legend(loc=\"best\")\n",
    "plt.title(\"ROC curve\")\n",
    "plt.show()"
   ]
  },
  {
   "cell_type": "markdown",
   "metadata": {},
   "source": [
    "### KNN with default parameters"
   ]
  },
  {
   "cell_type": "code",
   "execution_count": 194,
   "metadata": {},
   "outputs": [
    {
     "name": "stdout",
     "output_type": "stream",
     "text": [
      "max accuracy:  0.7822248898904587 when k is  1\n"
     ]
    },
    {
     "data": {
      "image/png": "[encoded data removed]",
      "text/plain": [
       "<Figure size 864x288 with 1 Axes>"
      ]
     },
     "metadata": {
      "needs_background": "light"
     },
     "output_type": "display_data"
    }
   ],
   "source": [
    "from sklearn.model_selection import cross_val_score\n",
    "from sklearn.neighbors import KNeighborsClassifier\n",
    "import matplotlib.pyplot as plt\n",
    "\n",
    "cv_scores = []\n",
    "for n in range(1,20):\n",
    "    knn = KNeighborsClassifier(n_neighbors=n)   \n",
    "    scores = cross_val_score(knn,\n",
    "                             X,\n",
    "                             y_num,\n",
    "                             cv=10,\n",
    "                             scoring='f1_weighted')  \n",
    "    cv_scores.append(scores.mean())\n",
    "plt.plot(range(1,20),cv_scores)\n",
    "plt.xlabel('K')\n",
    "plt.ylabel('Accuracy')\n",
    "print(\"max accuracy: \", max(cv_scores),\"when k is \", cv_scores.index(max(cv_scores))+1)"
   ]
  },
  {
   "cell_type": "markdown",
   "metadata": {},
   "source": [
    "### Grid search for KNN"
   ]
  },
  {
   "cell_type": "code",
   "execution_count": 195,
   "metadata": {},
   "outputs": [
    {
     "name": "stdout",
     "output_type": "stream",
     "text": [
      "Fitting 10 folds for each of 228 candidates, totalling 2280 fits\n"
     ]
    },
    {
     "data": {
      "text/plain": [
       "GridSearchCV(cv=StratifiedKFold(n_splits=10, random_state=None, shuffle=True),\n",
       "             estimator=KNeighborsClassifier(), n_jobs=-1,\n",
       "             param_grid={'metric': ['euclidean', 'manhattan', 'chebyshev',\n",
       "                                    'hamming', 'canberra', 'braycurtis'],\n",
       "                         'n_neighbors': range(1, 20),\n",
       "                         'weights': ['uniform', 'distance']},\n",
       "             scoring='f1_weighted', verbose=3)"
      ]
     },
     "execution_count": 195,
     "metadata": {},
     "output_type": "execute_result"
    }
   ],
   "source": [
    "from sklearn.model_selection import GridSearchCV\n",
    "from sklearn.model_selection import StratifiedKFold\n",
    "n_neighbors_list = range(1,20)\n",
    "metric_list=['euclidean','manhattan','chebyshev','hamming','canberra','braycurtis']\n",
    "weights_list = ['uniform', 'distance']\n",
    "parameters={'n_neighbors':n_neighbors_list,'metric':metric_list, 'weights':weights_list}\n",
    "# create GridSearchCV\n",
    "clf = GridSearchCV(KNeighborsClassifier(), parameters, n_jobs=-1, verbose=3,\n",
    "                   cv=StratifiedKFold(n_splits=10, shuffle=True), scoring='f1_weighted')\n",
    "#clf.fit(np.array(MFCC_df.MFCC.tolist()),le.transform(np.array(MFCC_df.class_label.tolist())))\n",
    "#clf.fit(x_train_random,y_train_random)\n",
    "clf.fit(X,y_num)"
   ]
  },
  {
   "cell_type": "code",
   "execution_count": 196,
   "metadata": {},
   "outputs": [
    {
     "data": {
      "text/html": [
       "<div>\n",
       "<style scoped>\n",
       "    .dataframe tbody tr th:only-of-type {\n",
       "        vertical-align: middle;\n",
       "    }\n",
       "\n",
       "    .dataframe tbody tr th {\n",
       "        vertical-align: top;\n",
       "    }\n",
       "\n",
       "    .dataframe thead th {\n",
       "        text-align: right;\n",
       "    }\n",
       "</style>\n",
       "<table border=\"1\" class=\"dataframe\">\n",
       "  <thead>\n",
       "    <tr style=\"text-align: right;\">\n",
       "      <th></th>\n",
       "      <th>param_metric</th>\n",
       "      <th>param_n_neighbors</th>\n",
       "      <th>param_weights</th>\n",
       "      <th>mean_test_score</th>\n",
       "      <th>std_test_score</th>\n",
       "    </tr>\n",
       "    <tr>\n",
       "      <th>rank_test_score</th>\n",
       "      <th></th>\n",
       "      <th></th>\n",
       "      <th></th>\n",
       "      <th></th>\n",
       "      <th></th>\n",
       "    </tr>\n",
       "  </thead>\n",
       "  <tbody>\n",
       "    <tr>\n",
       "      <th>1</th>\n",
       "      <td>braycurtis</td>\n",
       "      <td>1</td>\n",
       "      <td>uniform</td>\n",
       "      <td>0.924305</td>\n",
       "      <td>0.010509</td>\n",
       "    </tr>\n",
       "    <tr>\n",
       "      <th>1</th>\n",
       "      <td>braycurtis</td>\n",
       "      <td>1</td>\n",
       "      <td>distance</td>\n",
       "      <td>0.924305</td>\n",
       "      <td>0.010509</td>\n",
       "    </tr>\n",
       "    <tr>\n",
       "      <th>1</th>\n",
       "      <td>braycurtis</td>\n",
       "      <td>2</td>\n",
       "      <td>distance</td>\n",
       "      <td>0.924305</td>\n",
       "      <td>0.010509</td>\n",
       "    </tr>\n",
       "    <tr>\n",
       "      <th>4</th>\n",
       "      <td>manhattan</td>\n",
       "      <td>1</td>\n",
       "      <td>uniform</td>\n",
       "      <td>0.920833</td>\n",
       "      <td>0.011275</td>\n",
       "    </tr>\n",
       "    <tr>\n",
       "      <th>4</th>\n",
       "      <td>manhattan</td>\n",
       "      <td>1</td>\n",
       "      <td>distance</td>\n",
       "      <td>0.920833</td>\n",
       "      <td>0.011275</td>\n",
       "    </tr>\n",
       "    <tr>\n",
       "      <th>4</th>\n",
       "      <td>manhattan</td>\n",
       "      <td>2</td>\n",
       "      <td>distance</td>\n",
       "      <td>0.920833</td>\n",
       "      <td>0.011275</td>\n",
       "    </tr>\n",
       "    <tr>\n",
       "      <th>7</th>\n",
       "      <td>manhattan</td>\n",
       "      <td>3</td>\n",
       "      <td>distance</td>\n",
       "      <td>0.913228</td>\n",
       "      <td>0.015798</td>\n",
       "    </tr>\n",
       "    <tr>\n",
       "      <th>8</th>\n",
       "      <td>braycurtis</td>\n",
       "      <td>3</td>\n",
       "      <td>distance</td>\n",
       "      <td>0.912609</td>\n",
       "      <td>0.009089</td>\n",
       "    </tr>\n",
       "    <tr>\n",
       "      <th>9</th>\n",
       "      <td>braycurtis</td>\n",
       "      <td>2</td>\n",
       "      <td>uniform</td>\n",
       "      <td>0.909700</td>\n",
       "      <td>0.009834</td>\n",
       "    </tr>\n",
       "    <tr>\n",
       "      <th>10</th>\n",
       "      <td>braycurtis</td>\n",
       "      <td>4</td>\n",
       "      <td>distance</td>\n",
       "      <td>0.907897</td>\n",
       "      <td>0.017543</td>\n",
       "    </tr>\n",
       "    <tr>\n",
       "      <th>11</th>\n",
       "      <td>manhattan</td>\n",
       "      <td>2</td>\n",
       "      <td>uniform</td>\n",
       "      <td>0.906839</td>\n",
       "      <td>0.010682</td>\n",
       "    </tr>\n",
       "    <tr>\n",
       "      <th>12</th>\n",
       "      <td>braycurtis</td>\n",
       "      <td>3</td>\n",
       "      <td>uniform</td>\n",
       "      <td>0.904867</td>\n",
       "      <td>0.015020</td>\n",
       "    </tr>\n",
       "    <tr>\n",
       "      <th>13</th>\n",
       "      <td>manhattan</td>\n",
       "      <td>4</td>\n",
       "      <td>distance</td>\n",
       "      <td>0.902820</td>\n",
       "      <td>0.016995</td>\n",
       "    </tr>\n",
       "    <tr>\n",
       "      <th>14</th>\n",
       "      <td>euclidean</td>\n",
       "      <td>2</td>\n",
       "      <td>distance</td>\n",
       "      <td>0.902103</td>\n",
       "      <td>0.018983</td>\n",
       "    </tr>\n",
       "    <tr>\n",
       "      <th>14</th>\n",
       "      <td>euclidean</td>\n",
       "      <td>1</td>\n",
       "      <td>distance</td>\n",
       "      <td>0.902103</td>\n",
       "      <td>0.018983</td>\n",
       "    </tr>\n",
       "    <tr>\n",
       "      <th>14</th>\n",
       "      <td>euclidean</td>\n",
       "      <td>1</td>\n",
       "      <td>uniform</td>\n",
       "      <td>0.902103</td>\n",
       "      <td>0.018983</td>\n",
       "    </tr>\n",
       "    <tr>\n",
       "      <th>17</th>\n",
       "      <td>manhattan</td>\n",
       "      <td>3</td>\n",
       "      <td>uniform</td>\n",
       "      <td>0.901524</td>\n",
       "      <td>0.016948</td>\n",
       "    </tr>\n",
       "    <tr>\n",
       "      <th>18</th>\n",
       "      <td>braycurtis</td>\n",
       "      <td>5</td>\n",
       "      <td>distance</td>\n",
       "      <td>0.895035</td>\n",
       "      <td>0.019160</td>\n",
       "    </tr>\n",
       "    <tr>\n",
       "      <th>19</th>\n",
       "      <td>manhattan</td>\n",
       "      <td>5</td>\n",
       "      <td>distance</td>\n",
       "      <td>0.893599</td>\n",
       "      <td>0.021541</td>\n",
       "    </tr>\n",
       "    <tr>\n",
       "      <th>20</th>\n",
       "      <td>manhattan</td>\n",
       "      <td>6</td>\n",
       "      <td>distance</td>\n",
       "      <td>0.892592</td>\n",
       "      <td>0.021852</td>\n",
       "    </tr>\n",
       "  </tbody>\n",
       "</table>\n",
       "</div>"
      ],
      "text/plain": [
       "                param_metric param_n_neighbors param_weights  mean_test_score  \\\n",
       "rank_test_score                                                                 \n",
       "1                 braycurtis                 1       uniform         0.924305   \n",
       "1                 braycurtis                 1      distance         0.924305   \n",
       "1                 braycurtis                 2      distance         0.924305   \n",
       "4                  manhattan                 1       uniform         0.920833   \n",
       "4                  manhattan                 1      distance         0.920833   \n",
       "4                  manhattan                 2      distance         0.920833   \n",
       "7                  manhattan                 3      distance         0.913228   \n",
       "8                 braycurtis                 3      distance         0.912609   \n",
       "9                 braycurtis                 2       uniform         0.909700   \n",
       "10                braycurtis                 4      distance         0.907897   \n",
       "11                 manhattan                 2       uniform         0.906839   \n",
       "12                braycurtis                 3       uniform         0.904867   \n",
       "13                 manhattan                 4      distance         0.902820   \n",
       "14                 euclidean                 2      distance         0.902103   \n",
       "14                 euclidean                 1      distance         0.902103   \n",
       "14                 euclidean                 1       uniform         0.902103   \n",
       "17                 manhattan                 3       uniform         0.901524   \n",
       "18                braycurtis                 5      distance         0.895035   \n",
       "19                 manhattan                 5      distance         0.893599   \n",
       "20                 manhattan                 6      distance         0.892592   \n",
       "\n",
       "                 std_test_score  \n",
       "rank_test_score                  \n",
       "1                      0.010509  \n",
       "1                      0.010509  \n",
       "1                      0.010509  \n",
       "4                      0.011275  \n",
       "4                      0.011275  \n",
       "4                      0.011275  \n",
       "7                      0.015798  \n",
       "8                      0.009089  \n",
       "9                      0.009834  \n",
       "10                     0.017543  \n",
       "11                     0.010682  \n",
       "12                     0.015020  \n",
       "13                     0.016995  \n",
       "14                     0.018983  \n",
       "14                     0.018983  \n",
       "14                     0.018983  \n",
       "17                     0.016948  \n",
       "18                     0.019160  \n",
       "19                     0.021541  \n",
       "20                     0.021852  "
      ]
     },
     "execution_count": 196,
     "metadata": {},
     "output_type": "execute_result"
    }
   ],
   "source": [
    "# print the table of scores and parameters\n",
    "result=pd.DataFrame.from_dict(clf.cv_results_)\n",
    "result=result.loc[:,[\"param_metric\",\"param_n_neighbors\",\"param_weights\",\"mean_test_score\",\"std_test_score\",\"rank_test_score\"]]\n",
    "result.sort_values(\"rank_test_score\",inplace=True)\n",
    "result.set_index([\"rank_test_score\"])[:20]"
   ]
  },
  {
   "cell_type": "markdown",
   "metadata": {},
   "source": [
    "### Random forest"
   ]
  },
  {
   "cell_type": "code",
   "execution_count": 218,
   "metadata": {},
   "outputs": [],
   "source": [
    "%%capture thiscell\n",
    "from sklearn.ensemble import RandomForestClassifier\n",
    "for i in range(len(y_num_temp)):\n",
    "    if y_num_temp[i]==2:\n",
    "        y_num_temp[i]=0\n",
    "    if y_num_temp[i]==9:\n",
    "        y_num_temp[i]=1\n",
    "parameters={'n_estimators':range(50,300,50),\n",
    "            'criterion':['gini', 'entropy'],\n",
    "            'min_samples_split':range(1,10,2)}\n",
    "#parameters={'n_estimators':range(50,150,10)}\n",
    "# create GridSearchCV\n",
    "clf = GridSearchCV(RandomForestClassifier(), parameters, n_jobs=-1, verbose=3,\n",
    "                   cv=StratifiedKFold(n_splits=5, shuffle=True), scoring='f1_weighted')\n",
    "clf.fit(X,y_num)"
   ]
  },
  {
   "cell_type": "code",
   "execution_count": 219,
   "metadata": {},
   "outputs": [
    {
     "data": {
      "text/html": [
       "<div>\n",
       "<style scoped>\n",
       "    .dataframe tbody tr th:only-of-type {\n",
       "        vertical-align: middle;\n",
       "    }\n",
       "\n",
       "    .dataframe tbody tr th {\n",
       "        vertical-align: top;\n",
       "    }\n",
       "\n",
       "    .dataframe thead th {\n",
       "        text-align: right;\n",
       "    }\n",
       "</style>\n",
       "<table border=\"1\" class=\"dataframe\">\n",
       "  <thead>\n",
       "    <tr style=\"text-align: right;\">\n",
       "      <th></th>\n",
       "      <th>param_n_estimators</th>\n",
       "      <th>mean_test_score</th>\n",
       "      <th>std_test_score</th>\n",
       "    </tr>\n",
       "    <tr>\n",
       "      <th>rank_test_score</th>\n",
       "      <th></th>\n",
       "      <th></th>\n",
       "      <th></th>\n",
       "    </tr>\n",
       "  </thead>\n",
       "  <tbody>\n",
       "    <tr>\n",
       "      <th>1</th>\n",
       "      <td>200</td>\n",
       "      <td>0.886363</td>\n",
       "      <td>0.009483</td>\n",
       "    </tr>\n",
       "    <tr>\n",
       "      <th>2</th>\n",
       "      <td>250</td>\n",
       "      <td>0.884798</td>\n",
       "      <td>0.014245</td>\n",
       "    </tr>\n",
       "    <tr>\n",
       "      <th>3</th>\n",
       "      <td>150</td>\n",
       "      <td>0.880770</td>\n",
       "      <td>0.010468</td>\n",
       "    </tr>\n",
       "    <tr>\n",
       "      <th>4</th>\n",
       "      <td>250</td>\n",
       "      <td>0.879889</td>\n",
       "      <td>0.017959</td>\n",
       "    </tr>\n",
       "    <tr>\n",
       "      <th>5</th>\n",
       "      <td>200</td>\n",
       "      <td>0.879446</td>\n",
       "      <td>0.020814</td>\n",
       "    </tr>\n",
       "    <tr>\n",
       "      <th>6</th>\n",
       "      <td>200</td>\n",
       "      <td>0.877965</td>\n",
       "      <td>0.008964</td>\n",
       "    </tr>\n",
       "    <tr>\n",
       "      <th>7</th>\n",
       "      <td>250</td>\n",
       "      <td>0.877947</td>\n",
       "      <td>0.014137</td>\n",
       "    </tr>\n",
       "    <tr>\n",
       "      <th>8</th>\n",
       "      <td>250</td>\n",
       "      <td>0.876916</td>\n",
       "      <td>0.019434</td>\n",
       "    </tr>\n",
       "    <tr>\n",
       "      <th>9</th>\n",
       "      <td>100</td>\n",
       "      <td>0.875812</td>\n",
       "      <td>0.020102</td>\n",
       "    </tr>\n",
       "    <tr>\n",
       "      <th>10</th>\n",
       "      <td>250</td>\n",
       "      <td>0.873492</td>\n",
       "      <td>0.013989</td>\n",
       "    </tr>\n",
       "  </tbody>\n",
       "</table>\n",
       "</div>"
      ],
      "text/plain": [
       "                param_n_estimators  mean_test_score  std_test_score\n",
       "rank_test_score                                                    \n",
       "1                              200         0.886363        0.009483\n",
       "2                              250         0.884798        0.014245\n",
       "3                              150         0.880770        0.010468\n",
       "4                              250         0.879889        0.017959\n",
       "5                              200         0.879446        0.020814\n",
       "6                              200         0.877965        0.008964\n",
       "7                              250         0.877947        0.014137\n",
       "8                              250         0.876916        0.019434\n",
       "9                              100         0.875812        0.020102\n",
       "10                             250         0.873492        0.013989"
      ]
     },
     "execution_count": 219,
     "metadata": {},
     "output_type": "execute_result"
    }
   ],
   "source": [
    "# print the table of scores and parameters\n",
    "# print the table of scores and parameters\n",
    "result=pd.DataFrame.from_dict(clf.cv_results_)\n",
    "#result=result.loc[:,[\"param_n_estimators\",\"param_criterion\",\"param_min_samples_split\",\"mean_test_score\",\"std_test_score\",\"rank_test_score\"]]\n",
    "result=result.loc[:,[\"param_n_estimators\",\"mean_test_score\",\"std_test_score\",\"rank_test_score\"]]\n",
    "result.sort_values(\"rank_test_score\",inplace=True)\n",
    "result.set_index([\"rank_test_score\"])[:10]\n"
   ]
  }
 ],
 "metadata": {
  "interpreter": {
   "hash": "68c83780578f9461562d139d91a11619df9531099ddc8944c86ce3fde5e10d0e"
  },
  "kernelspec": {
   "display_name": "Python 3.10.2 64-bit",
   "language": "python",
   "name": "python3"
  },
  "language_info": {
   "codemirror_mode": {
    "name": "ipython",
    "version": 3
   },
   "file_extension": ".py",
   "mimetype": "text/x-python",
   "name": "python",
   "nbconvert_exporter": "python",
   "pygments_lexer": "ipython3",
   "version": "3.10.2"
  },
  "orig_nbformat": 4
 },
 "nbformat": 4,
 "nbformat_minor": 2
}
